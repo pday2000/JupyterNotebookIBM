{
 "cells": [
  {
   "cell_type": "markdown",
   "id": "4c346840-df7c-4056-a1d0-c2c348d2bcc2",
   "metadata": {},
   "source": [
    "# Data Science Tools and Ecosystem "
   ]
  },
  {
   "cell_type": "markdown",
   "id": "4c4f0d72-9bf3-4737-94b1-0f42cab687d5",
   "metadata": {},
   "source": [
    "In this notebook, Data Science Tools and Ecosystem are summarized."
   ]
  },
  {
   "cell_type": "markdown",
   "id": "32f4c072-7752-4f61-8bf5-ef567e9d9a23",
   "metadata": {},
   "source": [
    "**Objectives**\n",
    "- List popular languages for data science\n",
    "- List popular tools for data science\n",
    "- List popular libraries used for data science"
   ]
  },
  {
   "cell_type": "markdown",
   "id": "f5041a1a-1003-4cdb-917d-b1b919b3dfe1",
   "metadata": {},
   "source": [
    "Some of the popular languages that Data Scientists use are: \n",
    "1. Python\n",
    "2. R\n",
    "3. SQL"
   ]
  },
  {
   "cell_type": "markdown",
   "id": "115baa19-ebee-4561-90f6-cb25cfa1d6ef",
   "metadata": {},
   "source": [
    "Some of the commonly used libraries used by Data Scientists include:\n",
    "1. Pandas\n",
    "2. Numpy\n",
    "3. Leaflet"
   ]
  },
  {
   "cell_type": "markdown",
   "id": "0f743343-19c6-4249-abc6-aa6b38dbb205",
   "metadata": {
    "tags": []
   },
   "source": [
    "|Data Science Tools|\n",
    "|------------------|\n",
    "|VSCODE|\n",
    "|MATLAB|\n",
    "|MATPLOTLIB|"
   ]
  },
  {
   "cell_type": "markdown",
   "id": "115b1eb7-7fb1-4328-94e3-91cf8a9be518",
   "metadata": {},
   "source": [
    "### Below are a few examples of evaluating arithmetic expressions in Python"
   ]
  },
  {
   "cell_type": "code",
   "execution_count": 2,
   "id": "975bf535-b133-49f1-8882-8e2d509b4ee4",
   "metadata": {
    "tags": []
   },
   "outputs": [
    {
     "data": {
      "text/plain": [
       "17"
      ]
     },
     "execution_count": 2,
     "metadata": {},
     "output_type": "execute_result"
    }
   ],
   "source": [
    "#This a simple arithmetic expression to mutiply then add integers\n",
    "(3*4)+5"
   ]
  },
  {
   "cell_type": "code",
   "execution_count": 3,
   "id": "7fb498aa-6384-40fe-bfa4-0ac409751e85",
   "metadata": {
    "tags": []
   },
   "outputs": [
    {
     "data": {
      "text/plain": [
       "3.3333333333333335"
      ]
     },
     "execution_count": 3,
     "metadata": {},
     "output_type": "execute_result"
    }
   ],
   "source": [
    " #This will convert 200 minutes to hours by diving by 60\n",
    "200/60"
   ]
  },
  {
   "cell_type": "markdown",
   "id": "cf121cc0-776f-45d5-9923-bea39c7303c5",
   "metadata": {},
   "source": [
    "## Author\n",
    "Patrick Day"
   ]
  },
  {
   "cell_type": "code",
   "execution_count": null,
   "id": "11471bb6-51d7-44f1-aa8b-8c792de3c50e",
   "metadata": {},
   "outputs": [],
   "source": []
  }
 ],
 "metadata": {
  "kernelspec": {
   "display_name": "Python",
   "language": "python",
   "name": "conda-env-python-py"
  },
  "language_info": {
   "codemirror_mode": {
    "name": "ipython",
    "version": 3
   },
   "file_extension": ".py",
   "mimetype": "text/x-python",
   "name": "python",
   "nbconvert_exporter": "python",
   "pygments_lexer": "ipython3",
   "version": "3.7.12"
  }
 },
 "nbformat": 4,
 "nbformat_minor": 5
}
